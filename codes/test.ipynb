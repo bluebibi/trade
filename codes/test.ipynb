{
 "cells": [
  {
   "cell_type": "code",
   "execution_count": 1,
   "metadata": {
    "collapsed": true,
    "pycharm": {
     "is_executing": false
    }
   },
   "outputs": [
    {
     "name": "stderr",
     "text": [
      "/Users/yhhan/anaconda/envs/trade/lib/python3.7/site-packages/tensorflow/python/framework/dtypes.py:526: FutureWarning: Passing (type, 1) or '1type' as a synonym of type is deprecated; in a future version of numpy, it will be understood as (type, (1,)) / '(1,)type'.\n  _np_qint8 = np.dtype([(\"qint8\", np.int8, 1)])\n/Users/yhhan/anaconda/envs/trade/lib/python3.7/site-packages/tensorflow/python/framework/dtypes.py:527: FutureWarning: Passing (type, 1) or '1type' as a synonym of type is deprecated; in a future version of numpy, it will be understood as (type, (1,)) / '(1,)type'.\n  _np_quint8 = np.dtype([(\"quint8\", np.uint8, 1)])\n/Users/yhhan/anaconda/envs/trade/lib/python3.7/site-packages/tensorflow/python/framework/dtypes.py:528: FutureWarning: Passing (type, 1) or '1type' as a synonym of type is deprecated; in a future version of numpy, it will be understood as (type, (1,)) / '(1,)type'.\n  _np_qint16 = np.dtype([(\"qint16\", np.int16, 1)])\n/Users/yhhan/anaconda/envs/trade/lib/python3.7/site-packages/tensorflow/python/framework/dtypes.py:529: FutureWarning: Passing (type, 1) or '1type' as a synonym of type is deprecated; in a future version of numpy, it will be understood as (type, (1,)) / '(1,)type'.\n  _np_quint16 = np.dtype([(\"quint16\", np.uint16, 1)])\n/Users/yhhan/anaconda/envs/trade/lib/python3.7/site-packages/tensorflow/python/framework/dtypes.py:530: FutureWarning: Passing (type, 1) or '1type' as a synonym of type is deprecated; in a future version of numpy, it will be understood as (type, (1,)) / '(1,)type'.\n  _np_qint32 = np.dtype([(\"qint32\", np.int32, 1)])\n/Users/yhhan/anaconda/envs/trade/lib/python3.7/site-packages/tensorflow/python/framework/dtypes.py:535: FutureWarning: Passing (type, 1) or '1type' as a synonym of type is deprecated; in a future version of numpy, it will be understood as (type, (1,)) / '(1,)type'.\n  np_resource = np.dtype([(\"resource\", np.ubyte, 1)])\n"
     ],
     "output_type": "stream"
    }
   ],
   "source": [
    "import numpy as np\n",
    "from imblearn.under_sampling import RandomUnderSampler\n",
    "from codes.upbit.upbit_api import Upbit\n",
    "from codes.upbit.upbit_order_book_based_data import UpbitOrderBookBasedData\n",
    "from common.global_variables import CLIENT_ID_UPBIT, CLIENT_SECRET_UPBIT, fmt\n",
    "np.set_printoptions(suppress=True)\n",
    "np.set_printoptions(precision=4)\n",
    "\n",
    "WINDOW_SIZE = 5\n",
    "FUTURE_TARGET_SIZE = 5\n",
    "upbit = Upbit(CLIENT_ID_UPBIT, CLIENT_SECRET_UPBIT, fmt)"
   ]
  },
  {
   "cell_type": "code",
   "execution_count": 2,
   "outputs": [
    {
     "name": "stderr",
     "text": [
      "/Users/yhhan/anaconda/envs/trade/lib/python3.7/site-packages/sqlalchemy/ext/declarative/clsregistry.py:129: SAWarning: This declarative base already contains a class with the same class name and module name as web.db.database.OrderBook, and will be replaced in the string-lookup table.\n  % (item.__module__, item.__name__)\n",
      "/Users/yhhan/anaconda/envs/trade/lib/python3.7/site-packages/sqlalchemy/ext/declarative/clsregistry.py:129: SAWarning: This declarative base already contains a class with the same class name and module name as web.db.database.OrderBook, and will be replaced in the string-lookup table.\n  % (item.__module__, item.__name__)\n"
     ],
     "output_type": "stream"
    }
   ],
   "source": [
    "x_normalized_list = []\n",
    "y_up_list = []\n",
    "one_rate_list = []\n",
    "global_total_size = 0\n",
    "\n",
    "for i, coin_name in enumerate(upbit.get_all_coin_names()[:3]):\n",
    "    upbit_order_book_data = UpbitOrderBookBasedData(coin_name)\n",
    "    x_normalized_original, y_up_original, one_rate, total_size = upbit_order_book_data.get_dataset(split=False)\n",
    "    \n",
    "    x_normalized_list.append(x_normalized_original)\n",
    "    y_up_list.append(y_up_original)\n",
    "    one_rate_list.append(one_rate)\n",
    "    global_total_size += total_size    "
   ],
   "metadata": {
    "collapsed": false,
    "pycharm": {
     "name": "#%%\n",
     "is_executing": false
    }
   }
  },
  {
   "cell_type": "code",
   "execution_count": 3,
   "outputs": [
    {
     "name": "stdout",
     "text": [
      "(14681, 36, 63) (14681,) 0.4285865361372976 14681\n"
     ],
     "output_type": "stream"
    }
   ],
   "source": [
    "x_normalized = np.concatenate(x_normalized_list)\n",
    "y_up = np.concatenate(y_up_list)\n",
    "one_rate = np.mean(one_rate_list)\n",
    "print(x_normalized.shape, y_up.shape, one_rate, global_total_size)"
   ],
   "metadata": {
    "collapsed": false,
    "pycharm": {
     "name": "#%%\n",
     "is_executing": false
    }
   }
  },
  {
   "cell_type": "code",
   "execution_count": null,
   "outputs": [],
   "source": [
    "\n"
   ],
   "metadata": {
    "collapsed": false,
    "pycharm": {
     "name": "#%%\n"
    }
   }
  }
 ],
 "metadata": {
  "language_info": {
   "codemirror_mode": {
    "name": "ipython",
    "version": 2
   },
   "file_extension": ".py",
   "mimetype": "text/x-python",
   "name": "python",
   "nbconvert_exporter": "python",
   "pygments_lexer": "ipython2",
   "version": "2.7.6"
  },
  "kernelspec": {
   "name": "python3",
   "language": "python",
   "display_name": "Python 3"
  },
  "pycharm": {
   "stem_cell": {
    "cell_type": "raw",
    "source": [],
    "metadata": {
     "collapsed": false
    }
   }
  }
 },
 "nbformat": 4,
 "nbformat_minor": 0
}